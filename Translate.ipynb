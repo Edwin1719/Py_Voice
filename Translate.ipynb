{
 "cells": [
  {
   "cell_type": "code",
   "execution_count": 39,
   "id": "ff4feb0d-cefb-4238-aafa-73415543d748",
   "metadata": {},
   "outputs": [],
   "source": [
    "# Importacion de Librerias y Recursos\n",
    "from deep_translator import GoogleTranslator\n",
    "import speech_recognition as sr\n",
    "import pyttsx3\n",
    "import os\n",
    "import uuid\n",
    "import unidecode  # Para eliminar acentos"
   ]
  },
  {
   "cell_type": "code",
   "execution_count": 41,
   "id": "373f77e6-39b7-4b56-a524-92049c28d49a",
   "metadata": {},
   "outputs": [
    {
     "name": "stdout",
     "output_type": "stream",
     "text": [
      "Escuchando...\n",
      "Escuchando...\n"
     ]
    }
   ],
   "source": [
    "# Inicializar pyttsx3 y el reconocedor de voz\n",
    "engine = pyttsx3.init()\n",
    "listener = sr.Recognizer()\n",
    "\n",
    "def talk(text, lang='es'):\n",
    "    engine.setProperty('rate', 190)\n",
    "    engine.setProperty('volume', 0.9)\n",
    "    voices = engine.getProperty('voices')\n",
    "    voice_name = 'sabina' if lang == 'es' else 'zira'\n",
    "    for voice in voices:\n",
    "        if voice_name in voice.name.lower():\n",
    "            engine.setProperty('voice', voice.id)\n",
    "            break\n",
    "    engine.say(text)\n",
    "    engine.runAndWait()\n",
    "\n",
    "def listen(lang=\"es-ES\"):\n",
    "    with sr.Microphone() as source:\n",
    "        listener.adjust_for_ambient_noise(source)\n",
    "        print(\"Escuchando...\")\n",
    "        try:\n",
    "            audio = listener.listen(source, timeout=8, phrase_time_limit=15)\n",
    "            return listener.recognize_google(audio, language=lang).lower()\n",
    "        except (sr.WaitTimeoutError, sr.UnknownValueError, sr.RequestError):\n",
    "            return \"\"\n",
    "\n",
    "def normalizar_texto(texto):\n",
    "    return unidecode.unidecode(texto.strip().lower())\n",
    "\n",
    "def traducir(texto, source_lang, target_lang):\n",
    "    try:\n",
    "        return GoogleTranslator(source=source_lang, target=target_lang).translate(texto)\n",
    "    except Exception as e:\n",
    "        print(f\"Error en la traducción: {e}\")\n",
    "        return \"\"\n",
    "\n",
    "def seleccionar_idioma(texto):\n",
    "    if \"ingles al espanol\" in texto:\n",
    "        return 'en', 'es'\n",
    "    elif \"espanol al ingles\" in texto:\n",
    "        return 'es', 'en'\n",
    "    return None\n",
    "\n",
    "def empezar():\n",
    "    talk(\"Quieres traducir del ingles al español o del español al ingles\")\n",
    "    rec = listen()\n",
    "    idiomas = seleccionar_idioma(normalizar_texto(rec))\n",
    "    if not idiomas:\n",
    "        talk(\"No entendí qué idioma seleccionaste. Por favor, intenta de nuevo.\")\n",
    "        return\n",
    "\n",
    "    source_lang, target_lang = idiomas\n",
    "    talk(\"Qué quieres decir\", lang=source_lang)\n",
    "    rec = listen(lang=source_lang)\n",
    "    if not rec:\n",
    "        talk(\"No se pudo reconocer la frase para traducir.\")\n",
    "        return\n",
    "\n",
    "    resultado = traducir(rec, source_lang, target_lang)\n",
    "    if resultado:\n",
    "        talk(resultado, lang=target_lang)\n",
    "    else:\n",
    "        talk(\"Hubo un error en la traducción\")\n",
    "\n",
    "# Ejecutar la función empezar\n",
    "empezar()"
   ]
  }
 ],
 "metadata": {
  "kernelspec": {
   "display_name": "Python 3 (ipykernel)",
   "language": "python",
   "name": "python3"
  },
  "language_info": {
   "codemirror_mode": {
    "name": "ipython",
    "version": 3
   },
   "file_extension": ".py",
   "mimetype": "text/x-python",
   "name": "python",
   "nbconvert_exporter": "python",
   "pygments_lexer": "ipython3",
   "version": "3.12.7"
  }
 },
 "nbformat": 4,
 "nbformat_minor": 5
}
